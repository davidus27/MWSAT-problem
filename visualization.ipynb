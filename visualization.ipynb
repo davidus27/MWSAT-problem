{
 "cells": [
  {
   "cell_type": "code",
   "execution_count": null,
   "metadata": {},
   "outputs": [
    {
     "ename": "",
     "evalue": "",
     "output_type": "error",
     "traceback": [
      "\u001b[1;31mRunning cells with 'venv' requires ipykernel package.\n",
      "\u001b[1;31mRun the following command to install 'ipykernel' into the Python environment. \n",
      "\u001b[1;31mCommand: 'd:/Documents/school/fit/prvy/kop/homework/mandatory/second/venv/Scripts/python.exe -m pip install ipykernel -U --force-reinstall'"
     ]
    }
   ],
   "source": [
    "import os\n",
    "import random\n",
    "import sys\n",
    "from genetic_algo import Formula, GeneticAlgorithm\n",
    "from evolution_methods import *"
   ]
  },
  {
   "cell_type": "code",
   "execution_count": null,
   "metadata": {},
   "outputs": [
    {
     "ename": "",
     "evalue": "",
     "output_type": "error",
     "traceback": [
      "\u001b[1;31mRunning cells with 'venv' requires ipykernel package.\n",
      "\u001b[1;31mRun the following command to install 'ipykernel' into the Python environment. \n",
      "\u001b[1;31mCommand: 'd:/Documents/school/fit/prvy/kop/homework/mandatory/second/venv/Scripts/python.exe -m pip install ipykernel -U --force-reinstall'"
     ]
    }
   ],
   "source": [
    "# import visualization libraries\n",
    "import matplotlib.pyplot as plt\n",
    "import numpy as np\n",
    "import seaborn as sns\n"
   ]
  },
  {
   "cell_type": "code",
   "execution_count": null,
   "metadata": {},
   "outputs": [
    {
     "ename": "",
     "evalue": "",
     "output_type": "error",
     "traceback": [
      "\u001b[1;31mRunning cells with 'venv' requires ipykernel package.\n",
      "\u001b[1;31mRun the following command to install 'ipykernel' into the Python environment. \n",
      "\u001b[1;31mCommand: 'd:/Documents/school/fit/prvy/kop/homework/mandatory/second/venv/Scripts/python.exe -m pip install ipykernel -U --force-reinstall'"
     ]
    }
   ],
   "source": [
    "import math\n",
    "\n",
    "steepness_param = 100\n",
    "midpoint_curve = 0.8\n",
    "# plot logistic function\n",
    "# success_ratio = 1 / (1 + math.exp(-steepness_param * (x - midpoint_curve)))\n",
    "\n",
    "def f(x):\n",
    "    return 1 / (1 + math.exp(-steepness_param * (x - midpoint_curve)))\n",
    "\n",
    "datay = [ f(x) for x in np.arange(0, 1, 0.01)]\n",
    "datax = [ x for x in np.arange(0, 1, 0.01)]\n",
    "\n",
    "plt.ion()\n",
    "plt.plot(datax, datay)\n",
    "# make a vertical line in the plot\n",
    "plt.axvline(x=midpoint_curve, color='r', linestyle='--')\n",
    "plt.show()\n"
   ]
  },
  {
   "cell_type": "code",
   "execution_count": null,
   "metadata": {},
   "outputs": [
    {
     "ename": "",
     "evalue": "",
     "output_type": "error",
     "traceback": [
      "\u001b[1;31mRunning cells with 'venv' requires ipykernel package.\n",
      "\u001b[1;31mRun the following command to install 'ipykernel' into the Python environment. \n",
      "\u001b[1;31mCommand: 'd:/Documents/school/fit/prvy/kop/homework/mandatory/second/venv/Scripts/python.exe -m pip install ipykernel -U --force-reinstall'"
     ]
    }
   ],
   "source": [
    "# load data from results.out\n",
    "def get_loaded_data(file_name):\n",
    "    results = {}\n",
    "    with open(file_name, \"r\") as f:\n",
    "        current_file = \"\"\n",
    "        iteration_count = -1\n",
    "        for line in f:\n",
    "\n",
    "            if \"Solving file:\" in line:\n",
    "                current_file = line.split(\" \")[-1].strip()\n",
    "                results[current_file] = {\"solution\": [], \"iterations\": []}\n",
    "                continue\n",
    "\n",
    "            if \"Iteration\" in line:\n",
    "                results[current_file][\"iterations\"].append({\"fitness\": 0, \"success_rate\": 0.0})\n",
    "                iteration_count += 1\n",
    "                continue\n",
    "\n",
    "            if \"The best fitness\" in line:\n",
    "                results[current_file][\"iterations\"][iteration_count][\"fitness\"] = float(line.split(\":\")[-1])\n",
    "                continue\n",
    "\n",
    "            if \"configuration success rate\" in line:\n",
    "                results[current_file][\"iterations\"][iteration_count][\"success_rate\"] = float(line.split(\":\")[-1].strip())\n",
    "                continue\n",
    "\n",
    "            if \"Solution\" in line:\n",
    "                results[current_file][\"solution\"] = line.split(\":\")[-1]\n",
    "                iteration_count = -1\n",
    "                continue\n",
    "    return results"
   ]
  },
  {
   "cell_type": "code",
   "execution_count": null,
   "metadata": {},
   "outputs": [
    {
     "ename": "",
     "evalue": "",
     "output_type": "error",
     "traceback": [
      "\u001b[1;31mRunning cells with 'venv' requires ipykernel package.\n",
      "\u001b[1;31mRun the following command to install 'ipykernel' into the Python environment. \n",
      "\u001b[1;31mCommand: 'd:/Documents/school/fit/prvy/kop/homework/mandatory/second/venv/Scripts/python.exe -m pip install ipykernel -U --force-reinstall'"
     ]
    }
   ],
   "source": [
    "# generate graphs where all our fitness values and success_rates are lines in graph\n",
    "\n",
    "results = get_loaded_data(\"results/boosted_example.out\")\n",
    "for file in list(results.keys())[:4]:\n",
    "    fitness_line = []\n",
    "    success_rate_line = []\n",
    "\n",
    "    for result in results[file][\"iterations\"]:\n",
    "        fitness_line.append(result[\"fitness\"])\n",
    "    # plt.ion()\n",
    "    plt.plot(fitness_line)\n",
    "\n",
    "plt.ylabel(\"Fitness value\")\n",
    "plt.xlabel(\"Number of iterations\")\n",
    "# plt.legend(list(results.keys())[0:20])\n",
    "plt.show()"
   ]
  },
  {
   "attachments": {},
   "cell_type": "markdown",
   "metadata": {},
   "source": [
    "# 'Dobre' napady na \"experimenty\"\n",
    "\n",
    "- jedno nastavenie spustime viackrat, aby sme porovnali rozsah nahodnosti\n",
    "- porovnanie kazdej metody (selekcia, krizenie, fitness, atd.) nad jednym reprezentativnym suborom. Kazda metoda sa spusti niekolkokrat a vypocitame priemer. Vysledky dame do jedneho grafu\n",
    "- porovnanie 3-4 roznych nastaveni genetickeho algoritmu (kombinacia roznych metod dokopy) nad viacerymi (5-10) subormi. Kazde sa spusti viackrat a vytvorime tak niekolko (5-10) grafov, v kazdom porovname priemerne vysledky daneho nastavenia.\n",
    "- program spustime nad (asi) vsetkymi instanciami a porovname, ci nasiel pre vsetky riesenia\n"
   ]
  },
  {
   "cell_type": "code",
   "execution_count": null,
   "metadata": {},
   "outputs": [
    {
     "ename": "",
     "evalue": "",
     "output_type": "error",
     "traceback": [
      "\u001b[1;31mRunning cells with 'venv' requires ipykernel package.\n",
      "\u001b[1;31mRun the following command to install 'ipykernel' into the Python environment. \n",
      "\u001b[1;31mCommand: 'd:/Documents/school/fit/prvy/kop/homework/mandatory/second/venv/Scripts/python.exe -m pip install ipykernel -U --force-reinstall'"
     ]
    }
   ],
   "source": [
    "# define one specific build\n",
    "def build1():\n",
    "    return GeneticAlgorithm(population_size=50, reproduction_count=30, new_blood=20, elitism=True, survivors=5, max_iterations=100) \\\n",
    "        .set_initial_population_method(RandomInitialPopulation()) \\\n",
    "        .set_fitness_function(SuccessRateFitnessFunction(strict_satisfiability=True)) \\\n",
    "        .set_selection_method(RouletteSelection()) \\\n",
    "        .set_crossover_method(SinglePointCrossover()) \\\n",
    "        .set_mutation_method(BitFlipMutation(mutation_chance=0.01))"
   ]
  },
  {
   "cell_type": "code",
   "execution_count": null,
   "metadata": {},
   "outputs": [
    {
     "ename": "",
     "evalue": "",
     "output_type": "error",
     "traceback": [
      "\u001b[1;31mRunning cells with 'venv' requires ipykernel package.\n",
      "\u001b[1;31mRun the following command to install 'ipykernel' into the Python environment. \n",
      "\u001b[1;31mCommand: 'd:/Documents/school/fit/prvy/kop/homework/mandatory/second/venv/Scripts/python.exe -m pip install ipykernel -U --force-reinstall'"
     ]
    }
   ],
   "source": [
    "# define one specific build\n",
    "def build2():\n",
    "    return GeneticAlgorithm(population_size=50, reproduction_count=30, new_blood=20, elitism=True, survivors=5, max_iterations=100) \\\n",
    "        .set_initial_population_method(RandomInitialPopulation()) \\\n",
    "        .set_fitness_function(SuccessRateFitnessFunction(strict_satisfiability=False)) \\\n",
    "        .set_selection_method(RouletteSelection()) \\\n",
    "        .set_crossover_method(SinglePointCrossover()) \\\n",
    "        .set_mutation_method(BitFlipMutation(mutation_chance=0.01))"
   ]
  },
  {
   "cell_type": "code",
   "execution_count": null,
   "metadata": {},
   "outputs": [
    {
     "ename": "",
     "evalue": "",
     "output_type": "error",
     "traceback": [
      "\u001b[1;31mRunning cells with 'venv' requires ipykernel package.\n",
      "\u001b[1;31mRun the following command to install 'ipykernel' into the Python environment. \n",
      "\u001b[1;31mCommand: 'd:/Documents/school/fit/prvy/kop/homework/mandatory/second/venv/Scripts/python.exe -m pip install ipykernel -U --force-reinstall'"
     ]
    }
   ],
   "source": [
    "# define one specific build\n",
    "def build3():\n",
    "    return GeneticAlgorithm(population_size=50, reproduction_count=30, new_blood=20, elitism=True, survivors=5, max_iterations=100) \\\n",
    "        .set_initial_population_method(RandomInitialPopulation()) \\\n",
    "        .set_fitness_function(PunishedSuccessRateFitnessFunction(strict_satisfiability=False)) \\\n",
    "        .set_selection_method(RouletteSelection()) \\\n",
    "        .set_crossover_method(SinglePointCrossover()) \\\n",
    "        .set_mutation_method(BitFlipMutation(mutation_chance=0.01))"
   ]
  },
  {
   "cell_type": "code",
   "execution_count": null,
   "metadata": {},
   "outputs": [
    {
     "ename": "",
     "evalue": "",
     "output_type": "error",
     "traceback": [
      "\u001b[1;31mRunning cells with 'venv' requires ipykernel package.\n",
      "\u001b[1;31mRun the following command to install 'ipykernel' into the Python environment. \n",
      "\u001b[1;31mCommand: 'd:/Documents/school/fit/prvy/kop/homework/mandatory/second/venv/Scripts/python.exe -m pip install ipykernel -U --force-reinstall'"
     ]
    }
   ],
   "source": [
    "# define one specific build\n",
    "def build4():\n",
    "    return GeneticAlgorithm(population_size=100, reproduction_count=50, new_blood=70, elitism=False, survivors=10, max_iterations=100) \\\n",
    "        .set_initial_population_method(RandomInitialPopulation()) \\\n",
    "        .set_fitness_function(SuccessRateFitnessFunction(strict_satisfiability=True)) \\\n",
    "        .set_selection_method(RouletteSelection()) \\\n",
    "        .set_crossover_method(SinglePointCrossover()) \\\n",
    "        .set_mutation_method(BitFlipMutation(mutation_chance=0.01))"
   ]
  },
  {
   "cell_type": "code",
   "execution_count": null,
   "metadata": {},
   "outputs": [
    {
     "ename": "",
     "evalue": "",
     "output_type": "error",
     "traceback": [
      "\u001b[1;31mRunning cells with 'venv' requires ipykernel package.\n",
      "\u001b[1;31mRun the following command to install 'ipykernel' into the Python environment. \n",
      "\u001b[1;31mCommand: 'd:/Documents/school/fit/prvy/kop/homework/mandatory/second/venv/Scripts/python.exe -m pip install ipykernel -U --force-reinstall'"
     ]
    }
   ],
   "source": [
    "def find_solution(filename, build):\n",
    "    formula = Formula(filename)\n",
    "    # create evolution algorithm\n",
    "    evolution_algorithm = build()\n",
    "    solution = evolution_algorithm.solve(formula)\n",
    "\n",
    "    print(\"Solution:\", solution)\n",
    "    print(\"Weight:\", formula.get_total_weight(solution))"
   ]
  },
  {
   "cell_type": "code",
   "execution_count": null,
   "metadata": {},
   "outputs": [
    {
     "ename": "",
     "evalue": "",
     "output_type": "error",
     "traceback": [
      "\u001b[1;31mRunning cells with 'venv' requires ipykernel package.\n",
      "\u001b[1;31mRun the following command to install 'ipykernel' into the Python environment. \n",
      "\u001b[1;31mCommand: 'd:/Documents/school/fit/prvy/kop/homework/mandatory/second/venv/Scripts/python.exe -m pip install ipykernel -U --force-reinstall'"
     ]
    }
   ],
   "source": [
    "filename = \"data/wuf20-71-M/wuf20-01.mwcnf\"\n",
    "find_solution(filename, build1)"
   ]
  },
  {
   "cell_type": "code",
   "execution_count": null,
   "metadata": {},
   "outputs": [
    {
     "ename": "",
     "evalue": "",
     "output_type": "error",
     "traceback": [
      "\u001b[1;31mRunning cells with 'venv' requires ipykernel package.\n",
      "\u001b[1;31mRun the following command to install 'ipykernel' into the Python environment. \n",
      "\u001b[1;31mCommand: 'd:/Documents/school/fit/prvy/kop/homework/mandatory/second/venv/Scripts/python.exe -m pip install ipykernel -U --force-reinstall'"
     ]
    }
   ],
   "source": [
    "filename = \"data/wuf20-71-M/wuf20-01.mwcnf\"\n",
    "find_solution(filename, build2)"
   ]
  },
  {
   "cell_type": "code",
   "execution_count": null,
   "metadata": {},
   "outputs": [
    {
     "ename": "",
     "evalue": "",
     "output_type": "error",
     "traceback": [
      "\u001b[1;31mRunning cells with 'venv' requires ipykernel package.\n",
      "\u001b[1;31mRun the following command to install 'ipykernel' into the Python environment. \n",
      "\u001b[1;31mCommand: 'd:/Documents/school/fit/prvy/kop/homework/mandatory/second/venv/Scripts/python.exe -m pip install ipykernel -U --force-reinstall'"
     ]
    }
   ],
   "source": [
    "filename = \"data/wuf20-71-M/wuf20-01.mwcnf\"\n",
    "find_solution(filename, build3)"
   ]
  },
  {
   "cell_type": "code",
   "execution_count": null,
   "metadata": {},
   "outputs": [
    {
     "ename": "",
     "evalue": "",
     "output_type": "error",
     "traceback": [
      "\u001b[1;31mRunning cells with 'venv' requires ipykernel package.\n",
      "\u001b[1;31mRun the following command to install 'ipykernel' into the Python environment. \n",
      "\u001b[1;31mCommand: 'd:/Documents/school/fit/prvy/kop/homework/mandatory/second/venv/Scripts/python.exe -m pip install ipykernel -U --force-reinstall'"
     ]
    }
   ],
   "source": [
    "filename = \"data/wuf100-430-Q/wuf100-01.mwcnf\"\n",
    "find_solution(filename, build1)"
   ]
  },
  {
   "cell_type": "code",
   "execution_count": null,
   "metadata": {},
   "outputs": [],
   "source": [
    "# this will calculate if the solution is optimal\n",
    "from test import OptimalityTester\n",
    "tester = OptimalityTester()"
   ]
  },
  {
   "cell_type": "code",
   "execution_count": null,
   "metadata": {},
   "outputs": [],
   "source": [
    "filename = \"data/wuf20-71-M/wuf20-01.mwcnf\"\n",
    "tester.find_solution(filename)"
   ]
  }
 ],
 "metadata": {
  "kernelspec": {
   "display_name": "venv",
   "language": "python",
   "name": "python3"
  },
  "language_info": {
   "codemirror_mode": {
    "name": "ipython",
    "version": 3
   },
   "file_extension": ".py",
   "mimetype": "text/x-python",
   "name": "python",
   "nbconvert_exporter": "python",
   "pygments_lexer": "ipython3",
   "version": "3.9.16 (feeb267ead3e6771d3f2f49b83e1894839f64fb7, Dec 29 2022, 14:45:38)\n[PyPy 7.3.11 with MSC v.1929 64 bit (AMD64)]"
  },
  "orig_nbformat": 4,
  "vscode": {
   "interpreter": {
    "hash": "94ca9bbf2d823f77907f7b962c6ed86234a823714648ae9b0fac73e9a04cb665"
   }
  }
 },
 "nbformat": 4,
 "nbformat_minor": 2
}
