{
 "cells": [
  {
   "cell_type": "code",
   "execution_count": 1,
   "metadata": {},
   "outputs": [],
   "source": [
    "import os\n",
    "import random\n",
    "from solve import Formula"
   ]
  },
  {
   "cell_type": "code",
   "execution_count": 2,
   "metadata": {},
   "outputs": [],
   "source": [
    "def create_random_config(number_of_variables):\n",
    "    config = []\n",
    "    for _ in range(number_of_variables):\n",
    "        if random.random() < 0.5:\n",
    "            config.append(1)\n",
    "        else:\n",
    "            config.append(0)\n",
    "    return config"
   ]
  },
  {
   "cell_type": "code",
   "execution_count": 3,
   "metadata": {},
   "outputs": [
    {
     "name": "stdout",
     "output_type": "stream",
     "text": [
      "Clauses: [[4, -18, 19], [3, 18, -5], [-5, -8, -15], [-20, 7, -16], [10, -13, -7], [-12, -9, 17], [17, 19, 5], [-16, 9, 15], [11, -5, -14], [-18, 14, 1], [-19, -15, 10], [-8, 4, 7], [7, 17, -15], [12, -7, -14], [2, -15, -11], [9, 6, 1], [9, -15, 13], [12, -7, -17], [-18, -2, 20], [20, 12, 4], [-16, 18, -4], [-13, 15, 10], [12, -14, -7], [-7, 16, 10], [6, 10, 7], [20, 14, -16], [-19, 17, 11], [-7, 1, -20], [-5, 12, 15], [12, -11, -7], [-5, 19, -8], [1, 16, 17], [20, -14, -15], [13, -4, 10], [14, 7, 10], [-5, 9, 20], [10, 1, -19], [-16, -15, -1], [-15, -10, 4], [4, -15, -3], [-10, -16, 11], [-8, 12, -5], [14, -6, 12], [1, 6, 11], [-13, -5, -1], [-7, -2, 12], [1, -20, 19], [-2, -13, -8], [-11, 14, 9], [-6, -15, -2], [5, -12, -15], [-6, 17, 5], [-5, 19, -18], [-18, 14, -4], [9, -5, -1], [10, -19, -14], [20, 9, 4], [-5, 13, -17], [-18, 3, 11], [7, -9, 17], [-15, -6, -3], [-2, 3, -13], [12, 3, -2], [-2, -3, 17], [20, -15, -16], [-5, -17, -19], [-20, -18, 11], [-9, 1, -5], [-19, 9, 17], [12, -2, 17], [4, -16, -5]]\n",
      "Weights: [504, 227, 396, 446, 1, 373, 300, 277, 478, 670, 417, 537, 284, 476, 19, 89, 696, 170, 383, 333]\n",
      "Number_of_variables: 20\n",
      "Assignment:  [1, 1, 1, 1, 1, 1, 0, 0, 0, 0, 1, 0, 1, 0, 1, 1, 0, 0, 0, 0]\n"
     ]
    }
   ],
   "source": [
    "filename = os.path.join(os.getcwd(), \"data\", \"wuf20-71-M\", \"wuf20-01.mwcnf\")\n",
    "formula = Formula(filename)\n",
    "variable_configuration = create_random_config(formula.number_of_variables)\n",
    "print(formula)\n",
    "print(\"Assignment: \", variable_configuration)"
   ]
  }
 ],
 "metadata": {
  "kernelspec": {
   "display_name": "Python 3",
   "language": "python",
   "name": "python3"
  },
  "language_info": {
   "codemirror_mode": {
    "name": "ipython",
    "version": 3
   },
   "file_extension": ".py",
   "mimetype": "text/x-python",
   "name": "python",
   "nbconvert_exporter": "python",
   "pygments_lexer": "ipython3",
   "version": "3.9.2"
  },
  "orig_nbformat": 4,
  "vscode": {
   "interpreter": {
    "hash": "31f2aee4e71d21fbe5cf8b01ff0e069b9275f58929596ceb00d14d90e3e16cd6"
   }
  }
 },
 "nbformat": 4,
 "nbformat_minor": 2
}
