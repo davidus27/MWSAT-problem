{
 "cells": [
  {
   "cell_type": "code",
   "execution_count": 1,
   "metadata": {},
   "outputs": [],
   "source": [
    "import os\n",
    "import random\n",
    "from solve import Formula"
   ]
  },
  {
   "cell_type": "code",
   "execution_count": 2,
   "metadata": {},
   "outputs": [],
   "source": [
    "def create_random_config(number_of_variables):\n",
    "    config = []\n",
    "    for _ in range(number_of_variables):\n",
    "        if random.random() < 0.5:\n",
    "            config.append(1)\n",
    "        else:\n",
    "            config.append(0)\n",
    "    return config"
   ]
  },
  {
   "cell_type": "code",
   "execution_count": 3,
   "metadata": {},
   "outputs": [
    {
     "name": "stdout",
     "output_type": "stream",
     "text": [
      "Clauses: [[4, -18, 19], [3, 18, -5], [-5, -8, -15], [-20, 7, -16], [10, -13, -7], [-12, -9, 17], [17, 19, 5], [-16, 9, 15], [11, -5, -14], [-18, 14, 1], [-19, -15, 10], [-8, 4, 7], [7, 17, -15], [12, -7, -14], [2, -15, -11], [9, 6, 1], [9, -15, 13], [12, -7, -17], [-18, -2, 20], [20, 12, 4], [-16, 18, -4], [-13, 15, 10], [12, -14, -7], [-7, 16, 10], [6, 10, 7], [20, 14, -16], [-19, 17, 11], [-7, 1, -20], [-5, 12, 15], [12, -11, -7], [-5, 19, -8], [1, 16, 17], [20, -14, -15], [13, -4, 10], [14, 7, 10], [-5, 9, 20], [10, 1, -19], [-16, -15, -1], [-15, -10, 4], [4, -15, -3], [-10, -16, 11], [-8, 12, -5], [14, -6, 12], [1, 6, 11], [-13, -5, -1], [-7, -2, 12], [1, -20, 19], [-2, -13, -8], [-11, 14, 9], [-6, -15, -2], [5, -12, -15], [-6, 17, 5], [-5, 19, -18], [-18, 14, -4], [9, -5, -1], [10, -19, -14], [20, 9, 4], [-5, 13, -17], [-18, 3, 11], [7, -9, 17], [-15, -6, -3], [-2, 3, -13], [12, 3, -2], [-2, -3, 17], [20, -15, -16], [-5, -17, -19], [-20, -18, 11], [-9, 1, -5], [-19, 9, 17], [12, -2, 17], [4, -16, -5]]\n",
      "Weights: [504, 227, 396, 446, 1, 373, 300, 277, 478, 670, 417, 537, 284, 476, 19, 89, 696, 170, 383, 333]\n",
      "Number_of_variables: 20\n",
      "Assignment:  [1, 1, 1, 1, 1, 1, 0, 0, 0, 0, 1, 0, 1, 0, 1, 1, 0, 0, 0, 0]\n"
     ]
    }
   ],
   "source": [
    "filename = os.path.join(os.getcwd(), \"data\", \"wuf20-71-M\", \"wuf20-01.mwcnf\")\n",
    "formula = Formula(filename)\n",
    "variable_configuration = create_random_config(formula.number_of_variables)\n",
    "print(formula)\n",
    "print(\"Assignment: \", variable_configuration)"
   ]
  },
  {
   "cell_type": "code",
   "execution_count": 4,
   "metadata": {},
   "outputs": [
    {
     "ename": "ModuleNotFoundError",
     "evalue": "No module named 'seaborn'",
     "output_type": "error",
     "traceback": [
      "\u001b[0;31m---------------------------------------------------------------------------\u001b[0m",
      "\u001b[0;31mModuleNotFoundError\u001b[0m                       Traceback (most recent call last)",
      "Cell \u001b[0;32mIn[4], line 4\u001b[0m\n\u001b[1;32m      2\u001b[0m \u001b[39mimport\u001b[39;00m \u001b[39mmatplotlib\u001b[39;00m\u001b[39m.\u001b[39;00m\u001b[39mpyplot\u001b[39;00m \u001b[39mas\u001b[39;00m \u001b[39mplt\u001b[39;00m\n\u001b[1;32m      3\u001b[0m \u001b[39mimport\u001b[39;00m \u001b[39mnumpy\u001b[39;00m \u001b[39mas\u001b[39;00m \u001b[39mnp\u001b[39;00m\n\u001b[0;32m----> 4\u001b[0m \u001b[39mimport\u001b[39;00m \u001b[39mseaborn\u001b[39;00m \u001b[39mas\u001b[39;00m \u001b[39msns\u001b[39;00m\n",
      "\u001b[0;31mModuleNotFoundError\u001b[0m: No module named 'seaborn'"
     ]
    }
   ],
   "source": [
    "# import visualization libraries\n",
    "import matplotlib.pyplot as plt\n",
    "import numpy as np\n",
    "import seaborn as sns\n"
   ]
  },
  {
   "cell_type": "code",
   "execution_count": 36,
   "metadata": {},
   "outputs": [
    {
     "data": {
      "image/png": "[encoded data removed]",
      "text/plain": [
       "<Figure size 640x480 with 1 Axes>"
      ]
     },
     "metadata": {},
     "output_type": "display_data"
    }
   ],
   "source": [
    "import math\n",
    "\n",
    "steepness_param = 100\n",
    "midpoint_curve = 0.8\n",
    "# plot logistic function\n",
    "# success_ratio = 1 / (1 + math.exp(-steepness_param * (x - midpoint_curve)))\n",
    "\n",
    "def f(x):\n",
    "    return 1 / (1 + math.exp(-steepness_param * (x - midpoint_curve)))\n",
    "\n",
    "datay = [ f(x) for x in np.arange(0, 1, 0.01)]\n",
    "datax = [ x for x in np.arange(0, 1, 0.01)]\n",
    "\n",
    "plt.ion()\n",
    "plt.plot(datax, datay)\n",
    "# make a vertical line in the plot\n",
    "plt.axvline(x=0.5, color='r', linestyle='--')\n",
    "plt.show()\n"
   ]
  },
  {
   "cell_type": "code",
   "execution_count": 37,
   "metadata": {},
   "outputs": [
    {
     "name": "stdout",
     "output_type": "stream",
     "text": [
      "3.975449735908647e-31\n",
      "1.0806392777072785e-30\n",
      "2.9374821117108028e-30\n",
      "7.984904245686979e-30\n",
      "2.1705220113036392e-29\n",
      "5.900090541596978e-29\n",
      "1.603810890548615e-28\n",
      "4.359610000063019e-28\n",
      "1.1850648642339641e-27\n",
      "3.2213402859924933e-27\n",
      "8.756510762696457e-27\n",
      "2.3802664086943834e-26\n",
      "6.470234925645414e-26\n",
      "1.758792202424299e-25\n",
      "4.780892883885435e-25\n",
      "1.2995814250074846e-24\n",
      "3.5326285722007564e-24\n",
      "9.602680054508539e-24\n",
      "2.6102790696676677e-23\n",
      "7.095474162284604e-23\n",
      "1.9287498479638903e-22\n",
      "5.242885663363427e-22\n",
      "1.4251640827409148e-21\n",
      "3.873997628687105e-21\n",
      "1.0530617357553588e-20\n",
      "2.8625185805493533e-20\n",
      "7.781132241133686e-20\n",
      "2.1151310375910504e-19\n",
      "5.749522264293478e-19\n",
      "1.5628821893349666e-18\n",
      "4.248354255291499e-18\n",
      "1.154822417301554e-17\n",
      "3.1391327920479624e-17\n",
      "8.533047625743882e-17\n",
      "2.3195228302435193e-16\n",
      "6.305116760146851e-16\n",
      "1.7139084315419734e-15\n",
      "4.658886145103277e-15\n",
      "1.2664165549093656e-14\n",
      "3.44247710846976e-14\n",
      "9.357622968839034e-14\n",
      "2.543665647376213e-13\n",
      "6.91440010693525e-13\n",
      "1.879528816535504e-12\n",
      "5.109089028037113e-12\n",
      "1.388794386477085e-11\n",
      "3.775134544136461e-11\n",
      "1.02618796306485e-10\n",
      "2.7894680920907224e-10\n",
      "7.582560422162168e-10\n",
      "2.061153618190145e-09\n",
      "5.60279640614578e-09\n",
      "1.5229979512759916e-08\n",
      "4.1399375473941837e-08\n",
      "1.1253516205509098e-07\n",
      "3.0590222692561387e-07\n",
      "8.315280276641027e-07\n",
      "2.260324297903498e-06\n",
      "6.144174602214522e-06\n",
      "1.670142184809465e-05\n",
      "4.5397868702432457e-05\n",
      "0.00012339457598622668\n",
      "0.0003353501304664644\n",
      "0.0009110511944006097\n",
      "0.0024726231566346776\n",
      "0.006692850924284607\n",
      "0.0179862099620909\n",
      "0.04742587317756516\n",
      "0.11920292202211387\n",
      "0.2689414213699862\n",
      "0.4999999999999889\n",
      "0.7310585786299963\n",
      "0.8807970779778781\n",
      "0.9525741268224313\n",
      "0.9820137900379078\n",
      "0.9933071490757148\n",
      "0.9975273768433651\n",
      "0.9990889488055994\n",
      "0.9996646498695334\n",
      "0.9998766054240137\n",
      "0.9999546021312976\n",
      "0.999983298578152\n",
      "0.9999938558253978\n",
      "0.999997739675702\n",
      "0.9999991684719722\n",
      "0.999999694097773\n",
      "0.9999998874648379\n",
      "0.9999999586006244\n",
      "0.9999999847700205\n",
      "0.9999999943972036\n"
     ]
    }
   ],
   "source": [
    "for i in np.arange(0.1, 1.0, 0.01):\n",
    "    print(f(i))"
   ]
  }
 ],
 "metadata": {
  "kernelspec": {
   "display_name": "Python 3",
   "language": "python",
   "name": "python3"
  },
  "language_info": {
   "codemirror_mode": {
    "name": "ipython",
    "version": 3
   },
   "file_extension": ".py",
   "mimetype": "text/x-python",
   "name": "python",
   "nbconvert_exporter": "python",
   "pygments_lexer": "ipython3",
   "version": "3.9.2"
  },
  "orig_nbformat": 4,
  "vscode": {
   "interpreter": {
    "hash": "31f2aee4e71d21fbe5cf8b01ff0e069b9275f58929596ceb00d14d90e3e16cd6"
   }
  }
 },
 "nbformat": 4,
 "nbformat_minor": 2
}
